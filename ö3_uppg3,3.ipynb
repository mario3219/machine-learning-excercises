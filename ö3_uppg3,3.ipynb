{
 "cells": [
  {
   "attachments": {
    "image.png": {
     "image/png": "[encoded data removed]"
    }
   },
   "cell_type": "markdown",
   "metadata": {},
   "source": [
    "![image.png](attachment:image.png)\n",
    "\n",
    "Givet en viss score x, vad är sannolikheten att man har cancer y=2?"
   ]
  },
  {
   "cell_type": "code",
   "execution_count": 8,
   "metadata": {},
   "outputs": [
    {
     "name": "stdout",
     "output_type": "stream",
     "text": [
      "0.010591941143727693 0.1553471530301596 0.8472232586420394\n"
     ]
    }
   ],
   "source": [
    "#a\n",
    "import scipy.stats\n",
    "\n",
    "y1 = scipy.stats.norm(10,4)\n",
    "y2 = scipy.stats.norm(20,5)\n",
    "p1 = 0.99\n",
    "p2 = 0.01\n",
    "\n",
    "def calc(x):\n",
    "    return y2.pdf(x)*p2/(y1.pdf(x)*p1+y2.pdf(x)*p2)\n",
    "\n",
    "print(calc(15), calc(20), calc(25))\n"
   ]
  },
  {
   "cell_type": "markdown",
   "metadata": {},
   "source": [
    "b. konfidens intervall = mean +- sd/(sqrt(n))"
   ]
  }
 ],
 "metadata": {
  "kernelspec": {
   "display_name": "Python 3",
   "language": "python",
   "name": "python3"
  },
  "language_info": {
   "codemirror_mode": {
    "name": "ipython",
    "version": 3
   },
   "file_extension": ".py",
   "mimetype": "text/x-python",
   "name": "python",
   "nbconvert_exporter": "python",
   "pygments_lexer": "ipython3",
   "version": "3.12.0"
  }
 },
 "nbformat": 4,
 "nbformat_minor": 2
}
