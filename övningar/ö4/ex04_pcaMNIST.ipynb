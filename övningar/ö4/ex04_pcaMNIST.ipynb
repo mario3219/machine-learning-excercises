{
  "cells": [
    {
      "cell_type": "markdown",
      "metadata": {
        "id": "JK9R81Kx9pls"
      },
      "source": [
        "# Principal component analysis (PCA) and data compression\n",
        "\n",
        "In this notebook we will use PCA to compress data in the MNIST-digit dataset."
      ]
    },
    {
      "cell_type": "code",
      "execution_count": null,
      "metadata": {
        "id": "Tks9RiWGVhgG"
      },
      "outputs": [],
      "source": [
        "from sklearn.datasets import fetch_openml\n",
        "from sklearn.decomposition import PCA\n",
        "from sklearn.preprocessing import StandardScaler\n",
        "from sklearn.linear_model import LogisticRegression\n",
        "from sklearn.model_selection import train_test_split\n",
        "import pandas as pd\n",
        "import numpy as np\n",
        "import matplotlib.pyplot as plt\n",
        "\n",
        "# Load the dataset\n",
        "mnist = fetch_openml('mnist_784')\n",
        "mnist.data.shape"
      ]
    },
    {
      "cell_type": "code",
      "execution_count": null,
      "metadata": {
        "id": "F30VvQe6WbfC"
      },
      "outputs": [],
      "source": [
        "# Apply PCA to the dataset.\n",
        "# Exercise: What is the parameter fraction doing and how does it differ from let's say n_components = 8?\n",
        "fraction=0.6\n",
        "pca = PCA(n_components=fraction)\n",
        "projected_data = pca.fit_transform(mnist.data)\n",
        "pca.n_components_"
      ]
    },
    {
      "cell_type": "code",
      "execution_count": null,
      "metadata": {
        "id": "Lo2eWE-WZlaA"
      },
      "outputs": [],
      "source": [
        "# Plot the original Image\n",
        "\n",
        "A = mnist.data.to_numpy()\n",
        "\n",
        "plt.figure(figsize=(8,4))\n",
        "plt.subplot(1, 2, 1)\n",
        "plt.imshow(A[10].reshape(28,28),cmap = plt.cm.gray, interpolation='nearest',clim=(0, 255))\n",
        "plt.xlabel('784 components', fontsize = 14)\n",
        "plt.title('Original Image', fontsize = 20);"
      ]
    },
    {
      "cell_type": "code",
      "execution_count": null,
      "metadata": {
        "id": "1mpEPHVqDCMC"
      },
      "outputs": [],
      "source": [
        "# Plot image after PCA compression\n",
        "fuzzyfig = pca.inverse_transform(projected_data)\n",
        "plt.subplot(1, 2, 2)\n",
        "plt.imshow(fuzzyfig[10].reshape(28, 28),\n",
        "              cmap = plt.cm.gray, interpolation='nearest',\n",
        "              clim=(0, 255))\n",
        "plt.xlabel('{0} components'.format(pca.n_components_), fontsize = 14)\n",
        "plt.title('{0:02.1f} % of Explained Variance'.format(fraction*100), fontsize = 20);"
      ]
    },
    {
      "cell_type": "code",
      "execution_count": null,
      "metadata": {
        "id": "DqAuXwVbWXkd"
      },
      "outputs": [],
      "source": [
        "# Do the PCA-transform on test images only (else cheating)\n",
        "train_img, test_img, train_lbl, test_lbl = train_test_split(mnist.data, mnist.target, test_size=1/7.0, random_state=0)\n",
        "\n",
        "# First we apply a standardscaler\n",
        "scaler = StandardScaler()\n",
        "scaler.fit(train_img)\n",
        "train_img = scaler.transform(train_img)\n",
        "test_img = scaler.transform(test_img)\n",
        "\n",
        "# Then, do full PCA\n",
        "pca = PCA()\n",
        "pca.fit(train_img)\n",
        "pca.n_components_"
      ]
    },
    {
      "cell_type": "code",
      "execution_count": null,
      "metadata": {
        "id": "sMAEeZdjcsK6"
      },
      "outputs": [],
      "source": [
        "# Plot explained variance when we keep different nr of PCA components\n",
        "# The result will be different from before, because of the standardscaler\n",
        "tot = sum(pca.explained_variance_)\n",
        "var_exp = [(i/tot)*100 for i in sorted(pca.explained_variance_, reverse=True)]\n",
        "cum_var_exp = np.cumsum(var_exp)\n",
        "pca.explained_variance_"
      ]
    },
    {
      "cell_type": "code",
      "execution_count": null,
      "metadata": {
        "id": "nMuZy4CQdJj_"
      },
      "outputs": [],
      "source": [
        "plt.figure(figsize=(10, 5))\n",
        "plt.step(range(1, 785), cum_var_exp, where='mid',label='cumulative explained variance')\n",
        "plt.title('Cumulative Explained Variance as a Function of the Number of Components')\n",
        "plt.ylabel('Cumulative Explained variance')\n",
        "plt.xlabel('Principal components')\n",
        "plt.axhline(y = 90, color='b', linestyle='--', label = '90% Explained Variance')\n",
        "plt.axhline(y = 80, color='r', linestyle='--', label = '80% Explained Variance')\n",
        "plt.axhline(y = 70, color='g', linestyle='--', label = '70% Explained Variance')\n",
        "plt.axhline(y = 60, color='k', linestyle='--', label = '60% Explained Variance')\n",
        "plt.legend(loc='best')\n",
        "plt.savefig('pca_mnist.pdf')\n",
        "plt.show()"
      ]
    },
    {
      "cell_type": "code",
      "execution_count": null,
      "metadata": {
        "id": "nPyHSA3Fhu65"
      },
      "outputs": [],
      "source": [
        "# Lets see how logistic regression works on compressed images\n",
        "# Try different values below on compression factor\n",
        "# If we were clever, we could have reused the full PCA calculation from before\n",
        "pca = PCA(.85)\n",
        "pca.fit(train_img)\n",
        "train_imgpca = pca.transform(train_img)\n",
        "test_imgpca = pca.transform(test_img)\n",
        "pca.n_components_"
      ]
    },
    {
      "cell_type": "code",
      "execution_count": null,
      "metadata": {
        "id": "XWilK8_Mh89I"
      },
      "outputs": [],
      "source": [
        "# Define and fit a Logistic Regression classifier on PCA-compressed data.\n",
        "logisticRegr = LogisticRegression(max_iter=10000,tol=0.001,verbose=1)\n",
        "logisticRegr.fit(train_imgpca, train_lbl)"
      ]
    },
    {
      "cell_type": "code",
      "execution_count": null,
      "metadata": {
        "id": "-rkYLAA2iAUa"
      },
      "outputs": [],
      "source": [
        "# Evaluate\n",
        "logisticRegr.score(test_imgpca, test_lbl)"
      ]
    }
  ],
  "metadata": {
    "colab": {
      "provenance": []
    },
    "kernelspec": {
      "display_name": "Python 3",
      "name": "python3"
    },
    "language_info": {
      "codemirror_mode": {
        "name": "ipython",
        "version": 3
      },
      "file_extension": ".py",
      "mimetype": "text/x-python",
      "name": "python",
      "nbconvert_exporter": "python",
      "pygments_lexer": "ipython3",
      "version": "3.9.6"
    }
  },
  "nbformat": 4,
  "nbformat_minor": 0
}