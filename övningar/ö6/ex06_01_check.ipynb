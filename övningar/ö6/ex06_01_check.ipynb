{
 "cells": [
  {
   "cell_type": "code",
   "execution_count": 1,
   "metadata": {
    "id": "RSpKJ5xZH0Qg"
   },
   "outputs": [],
   "source": [
    "import numpy as np\n",
    "import statsmodels.formula.api as smf\n",
    "import pandas as pd"
   ]
  },
  {
   "cell_type": "code",
   "execution_count": 2,
   "metadata": {
    "id": "Eq4FLTD6H3My"
   },
   "outputs": [],
   "source": [
    "# Generate data according to the linear SCM model in the exercise\n",
    "\n",
    "N = 100000\n",
    "\n",
    "n1 = np.random.normal(0, 1, N)\n",
    "n2 = np.random.normal(0, 1, N)\n",
    "n3 = np.random.normal(0, 1, N)\n",
    "n4 = np.random.normal(0, 1, N)\n",
    "\n",
    "x1 = n1\n",
    "x2 = 7*x1 + n2\n",
    "x3 = 4*x2 + n3\n",
    "x4 = 3*x3 + 2*x1 + n4\n",
    "\n",
    "dat1 = pd.DataFrame({'x1':x1, 'x2':x2, 'x3':x3, 'x4':x4})"
   ]
  },
  {
   "cell_type": "markdown",
   "metadata": {
    "id": "lddo0qiH23sx"
   },
   "source": [
    "Now, using the smf package, we do \"ordinary least squares\"-fits (ols) using the different sets of features/variables listen in a), b), c), d). We also print the results."
   ]
  },
  {
   "cell_type": "code",
   "execution_count": null,
   "metadata": {
    "id": "vTkvZ-k3H6hD"
   },
   "outputs": [],
   "source": [
    "results1 = smf.ols('x4 ~ x2 - 1', data=dat1).fit()\n",
    "print(results1.summary())"
   ]
  },
  {
   "cell_type": "code",
   "execution_count": null,
   "metadata": {
    "id": "boyTa8IPH7gO"
   },
   "outputs": [],
   "source": [
    "results2 = smf.ols('x4 ~ x1 + x2 -1', data=dat1).fit()\n",
    "print(results2.summary())"
   ]
  },
  {
   "cell_type": "code",
   "execution_count": null,
   "metadata": {
    "id": "U_F52-p5IE-x"
   },
   "outputs": [],
   "source": [
    "results3 = smf.ols('x4 ~ x2 + x3 - 1', data=dat1).fit()\n",
    "print(results3.summary())"
   ]
  },
  {
   "cell_type": "code",
   "execution_count": null,
   "metadata": {
    "id": "d01W0QRQIGM0"
   },
   "outputs": [
    {
     "ename": "",
     "evalue": "",
     "output_type": "error",
     "traceback": [
      "\u001b[1;31mThe Kernel crashed while executing code in the current cell or a previous cell. \n",
      "\u001b[1;31mPlease review the code in the cell(s) to identify a possible cause of the failure. \n",
      "\u001b[1;31mClick <a href='https://aka.ms/vscodeJupyterKernelCrash'>here</a> for more info. \n",
      "\u001b[1;31mView Jupyter <a href='command:jupyter.viewOutput'>log</a> for further details."
     ]
    }
   ],
   "source": [
    "results4 = smf.ols('x4 ~ x1 + x2 + x3 - 1', data=dat1).fit()\n",
    "print(results4.summary())"
   ]
  }
 ],
 "metadata": {
  "colab": {
   "provenance": []
  },
  "kernelspec": {
   "display_name": "Python 3",
   "name": "python3"
  },
  "language_info": {
   "codemirror_mode": {
    "name": "ipython",
    "version": 3
   },
   "file_extension": ".py",
   "mimetype": "text/x-python",
   "name": "python",
   "nbconvert_exporter": "python",
   "pygments_lexer": "ipython3",
   "version": "3.12.8"
  }
 },
 "nbformat": 4,
 "nbformat_minor": 0
}
