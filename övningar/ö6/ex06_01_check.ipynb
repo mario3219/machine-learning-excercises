{
 "cells": [
  {
   "cell_type": "code",
   "execution_count": 7,
   "metadata": {
    "id": "RSpKJ5xZH0Qg"
   },
   "outputs": [],
   "source": [
    "import numpy as np\n",
    "import statsmodels.formula.api as smf\n",
    "import pandas as pd"
   ]
  },
  {
   "cell_type": "code",
   "execution_count": 8,
   "metadata": {
    "id": "Eq4FLTD6H3My"
   },
   "outputs": [],
   "source": [
    "# Generate data according to the linear SCM model in the exercise\n",
    "\n",
    "N = 100000\n",
    "\n",
    "n1 = np.random.normal(0, 1, N)\n",
    "n2 = np.random.normal(0, 1, N)\n",
    "n3 = np.random.normal(0, 1, N)\n",
    "n4 = np.random.normal(0, 1, N)\n",
    "\n",
    "x1 = n1\n",
    "x2 = 7*x1 + n2\n",
    "x3 = 4*x2 + n3\n",
    "x4 = 3*x3 + 2*x1 + n4\n",
    "\n",
    "dat1 = pd.DataFrame({'x1':x1, 'x2':x2, 'x3':x3, 'x4':x4})"
   ]
  },
  {
   "cell_type": "markdown",
   "metadata": {
    "id": "lddo0qiH23sx"
   },
   "source": [
    "Now, using the smf package, we do \"ordinary least squares\"-fits (ols) using the different sets of features/variables listen in a), b), c), d). We also print the results."
   ]
  },
  {
   "cell_type": "code",
   "execution_count": 9,
   "metadata": {
    "id": "vTkvZ-k3H6hD"
   },
   "outputs": [
    {
     "name": "stdout",
     "output_type": "stream",
     "text": [
      "                                 OLS Regression Results                                \n",
      "=======================================================================================\n",
      "Dep. Variable:                     x4   R-squared (uncentered):                   0.999\n",
      "Model:                            OLS   Adj. R-squared (uncentered):              0.999\n",
      "Method:                 Least Squares   F-statistic:                          7.516e+07\n",
      "Date:                Tue, 26 Nov 2024   Prob (F-statistic):                        0.00\n",
      "Time:                        16:27:27   Log-Likelihood:                     -2.5732e+05\n",
      "No. Observations:              100000   AIC:                                  5.146e+05\n",
      "Df Residuals:                   99999   BIC:                                  5.146e+05\n",
      "Df Model:                           1                                                  \n",
      "Covariance Type:            nonrobust                                                  \n",
      "==============================================================================\n",
      "                 coef    std err          t      P>|t|      [0.025      0.975]\n",
      "------------------------------------------------------------------------------\n",
      "x2            12.2794      0.001   8669.282      0.000      12.277      12.282\n",
      "==============================================================================\n",
      "Omnibus:                        4.238   Durbin-Watson:                   2.000\n",
      "Prob(Omnibus):                  0.120   Jarque-Bera (JB):                4.244\n",
      "Skew:                          -0.014   Prob(JB):                        0.120\n",
      "Kurtosis:                       2.984   Cond. No.                         1.00\n",
      "==============================================================================\n",
      "\n",
      "Notes:\n",
      "[1] R² is computed without centering (uncentered) since the model does not contain a constant.\n",
      "[2] Standard Errors assume that the covariance matrix of the errors is correctly specified.\n"
     ]
    }
   ],
   "source": [
    "results1 = smf.ols('x4 ~ x2 - 1', data=dat1).fit()\n",
    "print(results1.summary())"
   ]
  },
  {
   "cell_type": "code",
   "execution_count": 10,
   "metadata": {
    "id": "boyTa8IPH7gO"
   },
   "outputs": [
    {
     "name": "stdout",
     "output_type": "stream",
     "text": [
      "                                 OLS Regression Results                                \n",
      "=======================================================================================\n",
      "Dep. Variable:                     x4   R-squared (uncentered):                   0.999\n",
      "Model:                            OLS   Adj. R-squared (uncentered):              0.999\n",
      "Method:                 Least Squares   F-statistic:                          3.785e+07\n",
      "Date:                Tue, 26 Nov 2024   Prob (F-statistic):                        0.00\n",
      "Time:                        16:27:28   Log-Likelihood:                     -2.5696e+05\n",
      "No. Observations:              100000   AIC:                                  5.139e+05\n",
      "Df Residuals:                   99998   BIC:                                  5.139e+05\n",
      "Df Model:                           2                                                  \n",
      "Covariance Type:            nonrobust                                                  \n",
      "==============================================================================\n",
      "                 coef    std err          t      P>|t|      [0.025      0.975]\n",
      "------------------------------------------------------------------------------\n",
      "x1             1.8869      0.071     26.735      0.000       1.749       2.025\n",
      "x2            12.0152      0.010   1203.303      0.000      11.996      12.035\n",
      "==============================================================================\n",
      "Omnibus:                        4.123   Durbin-Watson:                   2.000\n",
      "Prob(Omnibus):                  0.127   Jarque-Bera (JB):                4.129\n",
      "Skew:                          -0.014   Prob(JB):                        0.127\n",
      "Kurtosis:                       2.984   Cond. No.                         51.0\n",
      "==============================================================================\n",
      "\n",
      "Notes:\n",
      "[1] R² is computed without centering (uncentered) since the model does not contain a constant.\n",
      "[2] Standard Errors assume that the covariance matrix of the errors is correctly specified.\n"
     ]
    }
   ],
   "source": [
    "results2 = smf.ols('x4 ~ x1 + x2 -1', data=dat1).fit()\n",
    "print(results2.summary())"
   ]
  },
  {
   "cell_type": "code",
   "execution_count": 11,
   "metadata": {
    "id": "U_F52-p5IE-x"
   },
   "outputs": [
    {
     "name": "stdout",
     "output_type": "stream",
     "text": [
      "                                 OLS Regression Results                                \n",
      "=======================================================================================\n",
      "Dep. Variable:                     x4   R-squared (uncentered):                   1.000\n",
      "Model:                            OLS   Adj. R-squared (uncentered):              1.000\n",
      "Method:                 Least Squares   F-statistic:                          3.497e+08\n",
      "Date:                Tue, 26 Nov 2024   Prob (F-statistic):                        0.00\n",
      "Time:                        16:27:28   Log-Likelihood:                     -1.4585e+05\n",
      "No. Observations:              100000   AIC:                                  2.917e+05\n",
      "Df Residuals:                   99998   BIC:                                  2.917e+05\n",
      "Df Model:                           2                                                  \n",
      "Covariance Type:            nonrobust                                                  \n",
      "==============================================================================\n",
      "                 coef    std err          t      P>|t|      [0.025      0.975]\n",
      "------------------------------------------------------------------------------\n",
      "x2             0.2944      0.013     22.358      0.000       0.269       0.320\n",
      "x3             2.9963      0.003    910.690      0.000       2.990       3.003\n",
      "==============================================================================\n",
      "Omnibus:                        0.370   Durbin-Watson:                   1.997\n",
      "Prob(Omnibus):                  0.831   Jarque-Bera (JB):                0.380\n",
      "Skew:                           0.002   Prob(JB):                        0.827\n",
      "Kurtosis:                       2.992   Cond. No.                         121.\n",
      "==============================================================================\n",
      "\n",
      "Notes:\n",
      "[1] R² is computed without centering (uncentered) since the model does not contain a constant.\n",
      "[2] Standard Errors assume that the covariance matrix of the errors is correctly specified.\n"
     ]
    }
   ],
   "source": [
    "results3 = smf.ols('x4 ~ x2 + x3 - 1', data=dat1).fit()\n",
    "print(results3.summary())"
   ]
  },
  {
   "cell_type": "code",
   "execution_count": 12,
   "metadata": {
    "id": "d01W0QRQIGM0"
   },
   "outputs": [
    {
     "name": "stdout",
     "output_type": "stream",
     "text": [
      "                                 OLS Regression Results                                \n",
      "=======================================================================================\n",
      "Dep. Variable:                     x4   R-squared (uncentered):                   1.000\n",
      "Model:                            OLS   Adj. R-squared (uncentered):              1.000\n",
      "Method:                 Least Squares   F-statistic:                          2.520e+08\n",
      "Date:                Tue, 26 Nov 2024   Prob (F-statistic):                        0.00\n",
      "Time:                        16:27:28   Log-Likelihood:                     -1.4195e+05\n",
      "No. Observations:              100000   AIC:                                  2.839e+05\n",
      "Df Residuals:                   99997   BIC:                                  2.839e+05\n",
      "Df Model:                           3                                                  \n",
      "Covariance Type:            nonrobust                                                  \n",
      "==============================================================================\n",
      "                 coef    std err          t      P>|t|      [0.025      0.975]\n",
      "------------------------------------------------------------------------------\n",
      "x1             2.0124      0.022     90.062      0.000       1.969       2.056\n",
      "x2             0.0058      0.013      0.444      0.657      -0.020       0.031\n",
      "x3             2.9980      0.003    947.418      0.000       2.992       3.004\n",
      "==============================================================================\n",
      "Omnibus:                        0.485   Durbin-Watson:                   1.998\n",
      "Prob(Omnibus):                  0.785   Jarque-Bera (JB):                0.496\n",
      "Skew:                          -0.001   Prob(JB):                        0.780\n",
      "Kurtosis:                       2.989   Cond. No.                         209.\n",
      "==============================================================================\n",
      "\n",
      "Notes:\n",
      "[1] R² is computed without centering (uncentered) since the model does not contain a constant.\n",
      "[2] Standard Errors assume that the covariance matrix of the errors is correctly specified.\n"
     ]
    }
   ],
   "source": [
    "results4 = smf.ols('x4 ~ x1 + x2 + x3 - 1', data=dat1).fit()\n",
    "print(results4.summary())"
   ]
  }
 ],
 "metadata": {
  "colab": {
   "provenance": []
  },
  "kernelspec": {
   "display_name": "Python 3",
   "name": "python3"
  },
  "language_info": {
   "codemirror_mode": {
    "name": "ipython",
    "version": 3
   },
   "file_extension": ".py",
   "mimetype": "text/x-python",
   "name": "python",
   "nbconvert_exporter": "python",
   "pygments_lexer": "ipython3",
   "version": "3.12.7"
  }
 },
 "nbformat": 4,
 "nbformat_minor": 0
}
