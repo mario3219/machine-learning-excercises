{
 "cells": [
  {
   "cell_type": "code",
   "execution_count": null,
   "metadata": {},
   "outputs": [],
   "source": [
    "import numpy as np\n",
    "import statsmodels.formula.api as smf\n",
    "import pandas as pd"
   ]
  },
  {
   "cell_type": "code",
   "execution_count": null,
   "metadata": {},
   "outputs": [],
   "source": [
    "N = 100000\n",
    "\n",
    "n1 = np.random.normal(0, 1, N)\n",
    "n2 = np.random.normal(0, 1, N)\n",
    "n3 = np.random.normal(0, 1, N)\n",
    "n4 = np.random.normal(0, 1, N)\n",
    "n5 = np.random.normal(0, 1, N)\n",
    "n6 = np.random.normal(0, 1, N)\n",
    "ny = np.random.normal(0, 1, N)\n",
    "\n",
    "x1 = n1\n",
    "x2 = n2\n",
    "x3 = n3\n",
    "x4 = 2*x1 + 3*x2 + n4\n",
    "x5 = 1*x2 + 2*x3 + n5\n",
    "x6 = 1*x4 + n6\n",
    "y = 3*x1 + 2*x5 + ny\n",
    "\n",
    "dat1 = pd.DataFrame({'x1':x1, 'x2':x2, 'x3':x3, 'x4':x4, 'x5':x5, 'x6':x6, 'y':y})"
   ]
  },
  {
   "cell_type": "code",
   "execution_count": null,
   "metadata": {},
   "outputs": [],
   "source": [
    "results1 = smf.ols('y ~ x3 + x5 - 1', data=dat1).fit()\n",
    "print(results1.summary())"
   ]
  },
  {
   "cell_type": "code",
   "execution_count": null,
   "metadata": {},
   "outputs": [],
   "source": [
    "results2 = smf.ols('y ~ x3 + x4 + x5 - 1', data=dat1).fit()\n",
    "print(results2.summary())"
   ]
  },
  {
   "cell_type": "code",
   "execution_count": null,
   "metadata": {},
   "outputs": [],
   "source": [
    "results3 = smf.ols('y ~ x3 + x5 + x6 - 1', data=dat1).fit()\n",
    "print(results3.summary())"
   ]
  },
  {
   "cell_type": "code",
   "execution_count": null,
   "metadata": {},
   "outputs": [],
   "source": [
    "results4 = smf.ols('y ~ x3 + x2 + x5 + x6 - 1', data=dat1).fit()\n",
    "print(results4.summary())"
   ]
  }
 ],
 "metadata": {
  "kernelspec": {
   "display_name": "Python 3",
   "language": "python",
   "name": "python3"
  },
  "language_info": {
   "codemirror_mode": {
    "name": "ipython",
    "version": 3
   },
   "file_extension": ".py",
   "mimetype": "text/x-python",
   "name": "python",
   "nbconvert_exporter": "python",
   "pygments_lexer": "ipython3",
   "version": "3.12.7"
  }
 },
 "nbformat": 4,
 "nbformat_minor": 2
}
