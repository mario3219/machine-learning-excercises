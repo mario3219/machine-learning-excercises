{
 "cells": [
  {
   "cell_type": "code",
   "execution_count": 8,
   "metadata": {},
   "outputs": [],
   "source": [
    "import numpy as np\n",
    "import statsmodels.formula.api as smf\n",
    "import pandas as pd"
   ]
  },
  {
   "cell_type": "code",
   "execution_count": 9,
   "metadata": {},
   "outputs": [],
   "source": [
    "N = 100000\n",
    "\n",
    "na = np.random.normal(0, 1, N)\n",
    "nb = np.random.normal(0, 1, N)\n",
    "nc = np.random.normal(0, 1, N)\n",
    "nd = np.random.normal(0, 1, N)\n",
    "ne = np.random.normal(0, 1, N)\n",
    "nx = np.random.normal(0, 1, N)\n",
    "ny = np.random.normal(0, 1, N)\n",
    "\n",
    "a = na\n",
    "b = nb\n",
    "x = 2*a + 3*b + nx\n",
    "c = b + nc\n",
    "d = 4*x+nd\n",
    "e = 2*d + ne\n",
    "y = 2*c + 3*d + ny\n",
    "\n",
    "dat1 = pd.DataFrame({'a':a, 'b':b, 'c':c, 'd':d, 'e':e, 'x':x, 'y':y})"
   ]
  },
  {
   "cell_type": "code",
   "execution_count": 10,
   "metadata": {},
   "outputs": [
    {
     "name": "stdout",
     "output_type": "stream",
     "text": [
      "                                 OLS Regression Results                                \n",
      "=======================================================================================\n",
      "Dep. Variable:                      y   R-squared (uncentered):                   0.997\n",
      "Model:                            OLS   Adj. R-squared (uncentered):              0.997\n",
      "Method:                 Least Squares   F-statistic:                          1.697e+07\n",
      "Date:                Tue, 26 Nov 2024   Prob (F-statistic):                        0.00\n",
      "Time:                        17:35:43   Log-Likelihood:                     -2.3478e+05\n",
      "No. Observations:              100000   AIC:                                  4.696e+05\n",
      "Df Residuals:                   99998   BIC:                                  4.696e+05\n",
      "Df Model:                           2                                                  \n",
      "Covariance Type:            nonrobust                                                  \n",
      "==============================================================================\n",
      "                 coef    std err          t      P>|t|      [0.025      0.975]\n",
      "------------------------------------------------------------------------------\n",
      "x              0.4035      0.032     12.602      0.000       0.341       0.466\n",
      "d              3.0064      0.008    376.388      0.000       2.991       3.022\n",
      "==============================================================================\n",
      "Omnibus:                        1.010   Durbin-Watson:                   2.006\n",
      "Prob(Omnibus):                  0.603   Jarque-Bera (JB):                1.019\n",
      "Skew:                           0.004   Prob(JB):                        0.601\n",
      "Kurtosis:                       2.986   Cond. No.                         63.8\n",
      "==============================================================================\n",
      "\n",
      "Notes:\n",
      "[1] R² is computed without centering (uncentered) since the model does not contain a constant.\n",
      "[2] Standard Errors assume that the covariance matrix of the errors is correctly specified.\n"
     ]
    }
   ],
   "source": [
    "results1 = smf.ols('y ~ x + d - 1', data=dat1).fit()\n",
    "print(results1.summary())"
   ]
  },
  {
   "cell_type": "code",
   "execution_count": 11,
   "metadata": {},
   "outputs": [
    {
     "name": "stdout",
     "output_type": "stream",
     "text": [
      "                                 OLS Regression Results                                \n",
      "=======================================================================================\n",
      "Dep. Variable:                      y   R-squared (uncentered):                   0.994\n",
      "Model:                            OLS   Adj. R-squared (uncentered):              0.994\n",
      "Method:                 Least Squares   F-statistic:                          5.140e+06\n",
      "Date:                Tue, 26 Nov 2024   Prob (F-statistic):                        0.00\n",
      "Time:                        17:35:43   Log-Likelihood:                     -2.7406e+05\n",
      "No. Observations:              100000   AIC:                                  5.481e+05\n",
      "Df Residuals:                   99997   BIC:                                  5.482e+05\n",
      "Df Model:                           3                                                  \n",
      "Covariance Type:            nonrobust                                                  \n",
      "==============================================================================\n",
      "                 coef    std err          t      P>|t|      [0.025      0.975]\n",
      "------------------------------------------------------------------------------\n",
      "x             12.0170      0.012   1013.510      0.000      11.994      12.040\n",
      "a             -0.0447      0.026     -1.688      0.091      -0.096       0.007\n",
      "b              1.9492      0.037     52.016      0.000       1.876       2.023\n",
      "==============================================================================\n",
      "Omnibus:                        0.332   Durbin-Watson:                   2.005\n",
      "Prob(Omnibus):                  0.847   Jarque-Bera (JB):                0.338\n",
      "Skew:                           0.004   Prob(JB):                        0.845\n",
      "Kurtosis:                       2.996   Cond. No.                         14.9\n",
      "==============================================================================\n",
      "\n",
      "Notes:\n",
      "[1] R² is computed without centering (uncentered) since the model does not contain a constant.\n",
      "[2] Standard Errors assume that the covariance matrix of the errors is correctly specified.\n"
     ]
    }
   ],
   "source": [
    "results2 = smf.ols('y ~ x + a + b - 1', data=dat1).fit()\n",
    "print(results2.summary())"
   ]
  },
  {
   "cell_type": "code",
   "execution_count": 12,
   "metadata": {},
   "outputs": [
    {
     "name": "stdout",
     "output_type": "stream",
     "text": [
      "                                 OLS Regression Results                                \n",
      "=======================================================================================\n",
      "Dep. Variable:                      y   R-squared (uncentered):                   0.994\n",
      "Model:                            OLS   Adj. R-squared (uncentered):              0.994\n",
      "Method:                 Least Squares   F-statistic:                          7.709e+06\n",
      "Date:                Tue, 26 Nov 2024   Prob (F-statistic):                        0.00\n",
      "Time:                        17:35:43   Log-Likelihood:                     -2.7407e+05\n",
      "No. Observations:              100000   AIC:                                  5.481e+05\n",
      "Df Residuals:                   99998   BIC:                                  5.482e+05\n",
      "Df Model:                           2                                                  \n",
      "Covariance Type:            nonrobust                                                  \n",
      "==============================================================================\n",
      "                 coef    std err          t      P>|t|      [0.025      0.975]\n",
      "------------------------------------------------------------------------------\n",
      "x             11.9991      0.005   2259.656      0.000      11.989      12.009\n",
      "b              2.0029      0.020    100.778      0.000       1.964       2.042\n",
      "==============================================================================\n",
      "Omnibus:                        0.325   Durbin-Watson:                   2.005\n",
      "Prob(Omnibus):                  0.850   Jarque-Bera (JB):                0.331\n",
      "Skew:                           0.004   Prob(JB):                        0.848\n",
      "Kurtosis:                       2.996   Cond. No.                         6.57\n",
      "==============================================================================\n",
      "\n",
      "Notes:\n",
      "[1] R² is computed without centering (uncentered) since the model does not contain a constant.\n",
      "[2] Standard Errors assume that the covariance matrix of the errors is correctly specified.\n"
     ]
    }
   ],
   "source": [
    "results3 = smf.ols('y ~ x + b - 1', data=dat1).fit()\n",
    "print(results3.summary())"
   ]
  },
  {
   "cell_type": "code",
   "execution_count": 13,
   "metadata": {},
   "outputs": [
    {
     "name": "stdout",
     "output_type": "stream",
     "text": [
      "                                 OLS Regression Results                                \n",
      "=======================================================================================\n",
      "Dep. Variable:                      y   R-squared (uncentered):                   0.995\n",
      "Model:                            OLS   Adj. R-squared (uncentered):              0.995\n",
      "Method:                 Least Squares   F-statistic:                          1.084e+07\n",
      "Date:                Tue, 26 Nov 2024   Prob (F-statistic):                        0.00\n",
      "Time:                        17:35:43   Log-Likelihood:                     -2.5711e+05\n",
      "No. Observations:              100000   AIC:                                  5.142e+05\n",
      "Df Residuals:                   99998   BIC:                                  5.142e+05\n",
      "Df Model:                           2                                                  \n",
      "Covariance Type:            nonrobust                                                  \n",
      "==============================================================================\n",
      "                 coef    std err          t      P>|t|      [0.025      0.975]\n",
      "------------------------------------------------------------------------------\n",
      "x             11.9960      0.003   3689.909      0.000      11.990      12.002\n",
      "c              2.0109      0.009    233.720      0.000       1.994       2.028\n",
      "==============================================================================\n",
      "Omnibus:                        1.490   Durbin-Watson:                   2.003\n",
      "Prob(Omnibus):                  0.475   Jarque-Bera (JB):                1.499\n",
      "Skew:                           0.009   Prob(JB):                        0.473\n",
      "Kurtosis:                       2.993   Cond. No.                         3.38\n",
      "==============================================================================\n",
      "\n",
      "Notes:\n",
      "[1] R² is computed without centering (uncentered) since the model does not contain a constant.\n",
      "[2] Standard Errors assume that the covariance matrix of the errors is correctly specified.\n"
     ]
    }
   ],
   "source": [
    "results4 = smf.ols('y ~ x + c - 1', data=dat1).fit()\n",
    "print(results4.summary())"
   ]
  },
  {
   "cell_type": "code",
   "execution_count": 14,
   "metadata": {},
   "outputs": [
    {
     "name": "stdout",
     "output_type": "stream",
     "text": [
      "                                 OLS Regression Results                                \n",
      "=======================================================================================\n",
      "Dep. Variable:                      y   R-squared (uncentered):                   0.999\n",
      "Model:                            OLS   Adj. R-squared (uncentered):              0.999\n",
      "Method:                 Least Squares   F-statistic:                          2.588e+07\n",
      "Date:                Tue, 26 Nov 2024   Prob (F-statistic):                        0.00\n",
      "Time:                        17:35:43   Log-Likelihood:                     -1.9350e+05\n",
      "No. Observations:              100000   AIC:                                  3.870e+05\n",
      "Df Residuals:                   99997   BIC:                                  3.870e+05\n",
      "Df Model:                           3                                                  \n",
      "Covariance Type:            nonrobust                                                  \n",
      "==============================================================================\n",
      "                 coef    std err          t      P>|t|      [0.025      0.975]\n",
      "------------------------------------------------------------------------------\n",
      "x              2.4063      0.019    126.644      0.000       2.369       2.444\n",
      "c              2.0013      0.005    439.398      0.000       1.992       2.010\n",
      "e              1.1991      0.002    506.797      0.000       1.194       1.204\n",
      "==============================================================================\n",
      "Omnibus:                        0.306   Durbin-Watson:                   1.999\n",
      "Prob(Omnibus):                  0.858   Jarque-Bera (JB):                0.298\n",
      "Skew:                          -0.003   Prob(JB):                        0.862\n",
      "Kurtosis:                       3.006   Cond. No.                         109.\n",
      "==============================================================================\n",
      "\n",
      "Notes:\n",
      "[1] R² is computed without centering (uncentered) since the model does not contain a constant.\n",
      "[2] Standard Errors assume that the covariance matrix of the errors is correctly specified.\n"
     ]
    }
   ],
   "source": [
    "results5 = smf.ols('y ~ x + c + e - 1', data=dat1).fit()\n",
    "print(results5.summary())"
   ]
  }
 ],
 "metadata": {
  "kernelspec": {
   "display_name": "Python 3",
   "language": "python",
   "name": "python3"
  },
  "language_info": {
   "codemirror_mode": {
    "name": "ipython",
    "version": 3
   },
   "file_extension": ".py",
   "mimetype": "text/x-python",
   "name": "python",
   "nbconvert_exporter": "python",
   "pygments_lexer": "ipython3",
   "version": "3.12.7"
  }
 },
 "nbformat": 4,
 "nbformat_minor": 2
}
