{
  "nbformat": 4,
  "nbformat_minor": 0,
  "metadata": {
    "colab": {
      "name": "lab_song_classification.ipynb",
      "provenance": []
    },
    "kernelspec": {
      "name": "python3",
      "display_name": "Python 3"
    }
  },
  "cells": [
    {
      "cell_type": "code",
      "metadata": {
        "id": "_x6_Po8c5Yoi"
      },
      "source": [
        "# Import modules\n",
        "import numpy as np\n",
        "import pandas as pd\n",
        "import matplotlib.pyplot as plt\n",
        "from sklearn.model_selection import train_test_split\n",
        "from sklearn.neighbors import KNeighborsClassifier"
      ],
      "execution_count": null,
      "outputs": []
    },
    {
      "cell_type": "code",
      "metadata": {
        "id": "JGaaR6fA4DM4",
        "outputId": "4c08095c-fbd4-4e95-dc54-a8cf0cc7f71c",
        "colab": {
          "base_uri": "https://localhost:8080/"
        }
      },
      "source": [
        "# Download data\n",
        "!wget -O training_data.csv http://handsonml.control.lth.se/data/training_data.csv\n",
        "!wget -O songs_to_classify.csv http://handsonml.control.lth.se/data/songs_to_classify.csv"
      ],
      "execution_count": null,
      "outputs": [
        {
          "output_type": "stream",
          "text": [
            "--2020-11-06 09:36:24--  http://handsonml.control.lth.se/data/training_data.csv\n",
            "Resolving handsonml.control.lth.se (handsonml.control.lth.se)... 130.235.83.49, 2001:470:28:988:1911:2012:4200:0\n",
            "Connecting to handsonml.control.lth.se (handsonml.control.lth.se)|130.235.83.49|:80... connected.\n",
            "HTTP request sent, awaiting response... 200 OK\n",
            "Length: 54950 (54K) [text/csv]\n",
            "Saving to: ‘training_data.csv’\n",
            "\n",
            "\rtraining_data.csv     0%[                    ]       0  --.-KB/s               \rtraining_data.csv   100%[===================>]  53.66K  --.-KB/s    in 0.05s   \n",
            "\n",
            "2020-11-06 09:36:24 (1.07 MB/s) - ‘training_data.csv’ saved [54950/54950]\n",
            "\n",
            "--2020-11-06 09:36:24--  http://handsonml.control.lth.se/data/songs_to_classify.csv\n",
            "Resolving handsonml.control.lth.se (handsonml.control.lth.se)... 130.235.83.49, 2001:470:28:988:1911:2012:4200:0\n",
            "Connecting to handsonml.control.lth.se (handsonml.control.lth.se)|130.235.83.49|:80... connected.\n",
            "HTTP request sent, awaiting response... 200 OK\n",
            "Length: 14306 (14K) [text/csv]\n",
            "Saving to: ‘songs_to_classify.csv’\n",
            "\n",
            "songs_to_classify.c 100%[===================>]  13.97K  --.-KB/s    in 0.02s   \n",
            "\n",
            "2020-11-06 09:36:24 (581 KB/s) - ‘songs_to_classify.csv’ saved [14306/14306]\n",
            "\n"
          ],
          "name": "stdout"
        }
      ]
    },
    {
      "cell_type": "code",
      "metadata": {
        "id": "7rQGWXu85GKD"
      },
      "source": [
        "# Load data\n",
        "train = pd.read_csv(\"training_data.csv\")\n",
        "test = pd.read_csv(\"songs_to_classify.csv\")\n",
        "train.shape, test.shape"
      ],
      "execution_count": null,
      "outputs": []
    },
    {
      "cell_type": "code",
      "metadata": {
        "id": "AjIXHj-QbCmK"
      },
      "source": [
        "# Inspect data\n",
        "train.sample(5)"
      ],
      "execution_count": null,
      "outputs": []
    },
    {
      "cell_type": "code",
      "metadata": {
        "id": "slYOHCve8NSi"
      },
      "source": [
        "# select which features to use\n",
        "features = ['danceability','key','loudness','instrumentalness','liveness']\n",
        "X_train = train.loc[:,features].values\n",
        "y_train = train.loc[:,'label'].values\n",
        "X_test = test.loc[:,features].values"
      ],
      "execution_count": null,
      "outputs": []
    },
    {
      "cell_type": "code",
      "metadata": {
        "id": "-YwzF_SM-FHp"
      },
      "source": [
        "# Normalize data. Can also be done using sklearn methods such as\n",
        "# MinMaxScaler() or StandardScaler()\n",
        "X_trainn = X_train*1/np.max(np.abs(X_train), axis=0)\n",
        "X_testn = X_test*1/np.max(np.abs(X_train), axis=0)"
      ],
      "execution_count": null,
      "outputs": []
    },
    {
      "cell_type": "code",
      "metadata": {
        "id": "MOQCqMjeaei6"
      },
      "source": [
        "# note: all inputs/features are treated as quantitative/numeric\n",
        "# some of the features are perhaps more sensible to treat as\n",
        "# qualitative/cathegorical. For that sklearn preprocessing methods\n",
        "# such as OneHotEncoder() can be used\n",
        "\n",
        "# define the k-NN model. To set n_neighbors in a systematic way, use cross validation!\n",
        "knnmodel = KNeighborsClassifier(n_neighbors=5)\n",
        "\n",
        "# feed it with data and train it\n",
        "knnmodel.fit(X_trainn, y_train)\n",
        "\n",
        "# make predictions\n",
        "predictions = knnmodel.predict(X=X_testn)\n",
        "print(predictions)"
      ],
      "execution_count": null,
      "outputs": []
    },
    {
      "cell_type": "code",
      "metadata": {
        "id": "3lLKVjTFaqeN"
      },
      "source": [],
      "execution_count": null,
      "outputs": []
    }
  ]
}