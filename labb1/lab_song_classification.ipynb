{
  "cells": [
    {
      "cell_type": "code",
      "execution_count": 3,
      "metadata": {
        "id": "_x6_Po8c5Yoi"
      },
      "outputs": [],
      "source": [
        "# Import modules\n",
        "import numpy as np\n",
        "import pandas as pd\n",
        "import matplotlib.pyplot as plt\n",
        "from sklearn.model_selection import train_test_split\n",
        "from sklearn.neighbors import KNeighborsClassifier"
      ]
    },
    {
      "cell_type": "code",
      "execution_count": null,
      "metadata": {
        "colab": {
          "base_uri": "https://localhost:8080/"
        },
        "id": "JGaaR6fA4DM4",
        "outputId": "4c08095c-fbd4-4e95-dc54-a8cf0cc7f71c"
      },
      "outputs": [
        {
          "name": "stdout",
          "output_type": "stream",
          "text": [
            "--2020-11-06 09:36:24--  http://handsonml.control.lth.se/data/training_data.csv\n",
            "Resolving handsonml.control.lth.se (handsonml.control.lth.se)... 130.235.83.49, 2001:470:28:988:1911:2012:4200:0\n",
            "Connecting to handsonml.control.lth.se (handsonml.control.lth.se)|130.235.83.49|:80... connected.\n",
            "HTTP request sent, awaiting response... 200 OK\n",
            "Length: 54950 (54K) [text/csv]\n",
            "Saving to: ‘training_data.csv’\n",
            "\n",
            "\rtraining_data.csv     0%[                    ]       0  --.-KB/s               \rtraining_data.csv   100%[===================>]  53.66K  --.-KB/s    in 0.05s   \n",
            "\n",
            "2020-11-06 09:36:24 (1.07 MB/s) - ‘training_data.csv’ saved [54950/54950]\n",
            "\n",
            "--2020-11-06 09:36:24--  http://handsonml.control.lth.se/data/songs_to_classify.csv\n",
            "Resolving handsonml.control.lth.se (handsonml.control.lth.se)... 130.235.83.49, 2001:470:28:988:1911:2012:4200:0\n",
            "Connecting to handsonml.control.lth.se (handsonml.control.lth.se)|130.235.83.49|:80... connected.\n",
            "HTTP request sent, awaiting response... 200 OK\n",
            "Length: 14306 (14K) [text/csv]\n",
            "Saving to: ‘songs_to_classify.csv’\n",
            "\n",
            "songs_to_classify.c 100%[===================>]  13.97K  --.-KB/s    in 0.02s   \n",
            "\n",
            "2020-11-06 09:36:24 (581 KB/s) - ‘songs_to_classify.csv’ saved [14306/14306]\n",
            "\n"
          ]
        }
      ],
      "source": [
        "# Download data\n",
        "#!wget -O training_data.csv http://handsonml.control.lth.se/data/training_data.csv\n",
        "#!wget -O songs_to_classify.csv http://handsonml.control.lth.se/data/songs_to_classify.csv"
      ]
    },
    {
      "cell_type": "code",
      "execution_count": 10,
      "metadata": {
        "id": "7rQGWXu85GKD"
      },
      "outputs": [
        {
          "data": {
            "text/plain": [
              "((750, 14), (200, 13))"
            ]
          },
          "execution_count": 10,
          "metadata": {},
          "output_type": "execute_result"
        }
      ],
      "source": [
        "# Load data\n",
        "train = pd.read_csv(\"training_data.csv\")\n",
        "test = pd.read_csv(\"songs_to_classify.csv\")\n",
        "train.shape, test.shape"
      ]
    },
    {
      "cell_type": "code",
      "execution_count": 5,
      "metadata": {
        "id": "AjIXHj-QbCmK"
      },
      "outputs": [
        {
          "data": {
            "text/html": [
              "<div>\n",
              "<style scoped>\n",
              "    .dataframe tbody tr th:only-of-type {\n",
              "        vertical-align: middle;\n",
              "    }\n",
              "\n",
              "    .dataframe tbody tr th {\n",
              "        vertical-align: top;\n",
              "    }\n",
              "\n",
              "    .dataframe thead th {\n",
              "        text-align: right;\n",
              "    }\n",
              "</style>\n",
              "<table border=\"1\" class=\"dataframe\">\n",
              "  <thead>\n",
              "    <tr style=\"text-align: right;\">\n",
              "      <th></th>\n",
              "      <th>acousticness</th>\n",
              "      <th>danceability</th>\n",
              "      <th>duration</th>\n",
              "      <th>energy</th>\n",
              "      <th>instrumentalness</th>\n",
              "      <th>key</th>\n",
              "      <th>liveness</th>\n",
              "      <th>loudness</th>\n",
              "      <th>mode</th>\n",
              "      <th>speechiness</th>\n",
              "      <th>tempo</th>\n",
              "      <th>time_signature</th>\n",
              "      <th>valence</th>\n",
              "      <th>label</th>\n",
              "    </tr>\n",
              "  </thead>\n",
              "  <tbody>\n",
              "    <tr>\n",
              "      <th>544</th>\n",
              "      <td>0.7340</td>\n",
              "      <td>0.570</td>\n",
              "      <td>213907</td>\n",
              "      <td>0.266</td>\n",
              "      <td>0.000000</td>\n",
              "      <td>5</td>\n",
              "      <td>0.138</td>\n",
              "      <td>-13.648</td>\n",
              "      <td>1</td>\n",
              "      <td>0.0358</td>\n",
              "      <td>133.962</td>\n",
              "      <td>4</td>\n",
              "      <td>0.294</td>\n",
              "      <td>1</td>\n",
              "    </tr>\n",
              "    <tr>\n",
              "      <th>323</th>\n",
              "      <td>0.0366</td>\n",
              "      <td>0.684</td>\n",
              "      <td>211800</td>\n",
              "      <td>0.896</td>\n",
              "      <td>0.000006</td>\n",
              "      <td>9</td>\n",
              "      <td>0.292</td>\n",
              "      <td>-4.239</td>\n",
              "      <td>1</td>\n",
              "      <td>0.1440</td>\n",
              "      <td>129.942</td>\n",
              "      <td>4</td>\n",
              "      <td>0.444</td>\n",
              "      <td>0</td>\n",
              "    </tr>\n",
              "    <tr>\n",
              "      <th>301</th>\n",
              "      <td>0.5860</td>\n",
              "      <td>0.565</td>\n",
              "      <td>238933</td>\n",
              "      <td>0.461</td>\n",
              "      <td>0.000000</td>\n",
              "      <td>0</td>\n",
              "      <td>0.162</td>\n",
              "      <td>-7.273</td>\n",
              "      <td>1</td>\n",
              "      <td>0.1410</td>\n",
              "      <td>157.894</td>\n",
              "      <td>4</td>\n",
              "      <td>0.199</td>\n",
              "      <td>1</td>\n",
              "    </tr>\n",
              "    <tr>\n",
              "      <th>279</th>\n",
              "      <td>0.5720</td>\n",
              "      <td>0.767</td>\n",
              "      <td>244173</td>\n",
              "      <td>0.271</td>\n",
              "      <td>0.092900</td>\n",
              "      <td>0</td>\n",
              "      <td>0.162</td>\n",
              "      <td>-9.230</td>\n",
              "      <td>1</td>\n",
              "      <td>0.0531</td>\n",
              "      <td>124.042</td>\n",
              "      <td>4</td>\n",
              "      <td>0.639</td>\n",
              "      <td>1</td>\n",
              "    </tr>\n",
              "    <tr>\n",
              "      <th>567</th>\n",
              "      <td>0.1030</td>\n",
              "      <td>0.696</td>\n",
              "      <td>226326</td>\n",
              "      <td>0.491</td>\n",
              "      <td>0.000002</td>\n",
              "      <td>3</td>\n",
              "      <td>0.131</td>\n",
              "      <td>-10.062</td>\n",
              "      <td>0</td>\n",
              "      <td>0.1060</td>\n",
              "      <td>122.095</td>\n",
              "      <td>4</td>\n",
              "      <td>0.408</td>\n",
              "      <td>0</td>\n",
              "    </tr>\n",
              "  </tbody>\n",
              "</table>\n",
              "</div>"
            ],
            "text/plain": [
              "     acousticness  danceability  duration  energy  instrumentalness  key  \\\n",
              "544        0.7340         0.570    213907   0.266          0.000000    5   \n",
              "323        0.0366         0.684    211800   0.896          0.000006    9   \n",
              "301        0.5860         0.565    238933   0.461          0.000000    0   \n",
              "279        0.5720         0.767    244173   0.271          0.092900    0   \n",
              "567        0.1030         0.696    226326   0.491          0.000002    3   \n",
              "\n",
              "     liveness  loudness  mode  speechiness    tempo  time_signature  valence  \\\n",
              "544     0.138   -13.648     1       0.0358  133.962               4    0.294   \n",
              "323     0.292    -4.239     1       0.1440  129.942               4    0.444   \n",
              "301     0.162    -7.273     1       0.1410  157.894               4    0.199   \n",
              "279     0.162    -9.230     1       0.0531  124.042               4    0.639   \n",
              "567     0.131   -10.062     0       0.1060  122.095               4    0.408   \n",
              "\n",
              "     label  \n",
              "544      1  \n",
              "323      0  \n",
              "301      1  \n",
              "279      1  \n",
              "567      0  "
            ]
          },
          "execution_count": 5,
          "metadata": {},
          "output_type": "execute_result"
        }
      ],
      "source": [
        "# Inspect data\n",
        "train.sample(5)"
      ]
    },
    {
      "cell_type": "code",
      "execution_count": 7,
      "metadata": {
        "id": "slYOHCve8NSi"
      },
      "outputs": [],
      "source": [
        "# select which features to use\n",
        "features = ['danceability','key','loudness','instrumentalness','liveness']\n",
        "X_train = train.loc[:,features].values\n",
        "y_train = train.loc[:,'label'].values\n",
        "X_test = test.loc[:,features].values"
      ]
    },
    {
      "cell_type": "code",
      "execution_count": 8,
      "metadata": {
        "id": "-YwzF_SM-FHp"
      },
      "outputs": [],
      "source": [
        "# Normalize data. Can also be done using sklearn methods such as\n",
        "# MinMaxScaler() or StandardScaler()\n",
        "X_trainn = X_train*1/np.max(np.abs(X_train), axis=0)\n",
        "X_testn = X_test*1/np.max(np.abs(X_train), axis=0)"
      ]
    },
    {
      "cell_type": "code",
      "execution_count": 9,
      "metadata": {
        "id": "MOQCqMjeaei6"
      },
      "outputs": [
        {
          "name": "stdout",
          "output_type": "stream",
          "text": [
            "[0 1 0 1 0 0 0 1 0 0 1 0 0 1 1 1 1 0 1 1 0 0 1 0 0 1 1 0 0 1 1 1 1 1 0 1 1\n",
            " 1 0 1 0 1 0 1 1 1 0 1 1 0 1 0 1 0 0 1 1 1 0 0 1 1 0 0 1 1 1 0 1 1 1 0 1 1\n",
            " 1 1 0 1 1 0 1 1 0 0 1 0 1 1 1 1 1 0 0 0 1 0 1 1 1 1 0 0 1 0 0 1 0 0 0 1 1\n",
            " 1 0 1 1 0 0 1 0 0 0 1 1 0 1 1 1 1 1 1 1 1 0 1 1 1 1 1 1 0 1 0 0 1 1 1 0 0\n",
            " 1 0 1 1 1 0 1 1 1 1 1 1 0 1 0 1 1 1 1 1 1 1 1 1 1 0 1 0 1 1 1 0 1 1 1 1 1\n",
            " 1 1 0 0 0 1 0 0 0 1 1 1 1 1 1]\n"
          ]
        }
      ],
      "source": [
        "# note: all inputs/features are treated as quantitative/numeric\n",
        "# some of the features are perhaps more sensible to treat as\n",
        "# qualitative/cathegorical. For that sklearn preprocessing methods\n",
        "# such as OneHotEncoder() can be used\n",
        "\n",
        "# define the k-NN model. To set n_neighbors in a systematic way, use cross validation!\n",
        "knnmodel = KNeighborsClassifier(n_neighbors=5)\n",
        "\n",
        "# feed it with data and train it\n",
        "knnmodel.fit(X_trainn, y_train)\n",
        "\n",
        "# make predictions\n",
        "predictions = knnmodel.predict(X=X_testn)\n",
        "print(predictions)"
      ]
    },
    {
      "cell_type": "code",
      "execution_count": null,
      "metadata": {
        "id": "3lLKVjTFaqeN"
      },
      "outputs": [],
      "source": []
    }
  ],
  "metadata": {
    "colab": {
      "name": "lab_song_classification.ipynb",
      "provenance": []
    },
    "kernelspec": {
      "display_name": "Python 3",
      "name": "python3"
    },
    "language_info": {
      "codemirror_mode": {
        "name": "ipython",
        "version": 3
      },
      "file_extension": ".py",
      "mimetype": "text/x-python",
      "name": "python",
      "nbconvert_exporter": "python",
      "pygments_lexer": "ipython3",
      "version": "3.12.0"
    }
  },
  "nbformat": 4,
  "nbformat_minor": 0
}
