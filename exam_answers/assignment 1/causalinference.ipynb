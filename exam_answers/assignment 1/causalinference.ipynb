{
 "cells": [
  {
   "cell_type": "code",
   "execution_count": 5,
   "metadata": {},
   "outputs": [],
   "source": [
    "import numpy as np\n",
    "import statsmodels.formula.api as smf\n",
    "import pandas as pd"
   ]
  },
  {
   "cell_type": "code",
   "execution_count": 6,
   "metadata": {},
   "outputs": [],
   "source": [
    "N = 100000\n",
    "np.random.seed(140125)\n",
    "\n",
    "# Define the coefficients of the causal graph\n",
    "x_ab = 1\n",
    "x_bc = 2\n",
    "x_cf = 1\n",
    "x_dc = -1\n",
    "x_ea = 3\n",
    "x_ec = 2\n",
    "\n",
    "# Generate additive noise\n",
    "n_a = np.random.randn(N)\n",
    "n_b = np.random.randn(N)\n",
    "n_c = np.random.randn(N)\n",
    "n_d = np.random.randn(N)\n",
    "n_e = np.random.randn(N)\n",
    "n_f = np.random.randn(N)\n",
    "\n",
    "# Create the variables\n",
    "D = n_d\n",
    "E = n_e\n",
    "A = x_ea * E + n_a\n",
    "B = x_ab * A + n_b\n",
    "C = x_bc * B + x_dc * D + x_ec * E + n_c\n",
    "F = x_cf * C + n_f\n",
    "\n",
    "# Collect in a dataframe\n",
    "data = pd.DataFrame({'A': A, 'B': B, 'C': C, 'D': D, 'E': E, 'F': F})"
   ]
  },
  {
   "cell_type": "code",
   "execution_count": 7,
   "metadata": {},
   "outputs": [
    {
     "name": "stdout",
     "output_type": "stream",
     "text": [
      "                                 OLS Regression Results                                \n",
      "=======================================================================================\n",
      "Dep. Variable:                      C   R-squared (uncentered):                   0.920\n",
      "Model:                            OLS   Adj. R-squared (uncentered):              0.920\n",
      "Method:                 Least Squares   F-statistic:                          5.711e+05\n",
      "Date:                Tue, 14 Jan 2025   Prob (F-statistic):                        0.00\n",
      "Time:                        14:49:50   Log-Likelihood:                     -2.3162e+05\n",
      "No. Observations:              100000   AIC:                                  4.632e+05\n",
      "Df Residuals:                   99998   BIC:                                  4.633e+05\n",
      "Df Model:                           2                                                  \n",
      "Covariance Type:            nonrobust                                                  \n",
      "==============================================================================\n",
      "                 coef    std err          t      P>|t|      [0.025      0.975]\n",
      "------------------------------------------------------------------------------\n",
      "A              1.9997      0.008    257.921      0.000       1.985       2.015\n",
      "E              2.0065      0.025     81.863      0.000       1.958       2.054\n",
      "==============================================================================\n",
      "Omnibus:                        3.057   Durbin-Watson:                   2.000\n",
      "Prob(Omnibus):                  0.217   Jarque-Bera (JB):                3.092\n",
      "Skew:                          -0.003   Prob(JB):                        0.213\n",
      "Kurtosis:                       3.026   Cond. No.                         11.0\n",
      "==============================================================================\n",
      "\n",
      "Notes:\n",
      "[1] R² is computed without centering (uncentered) since the model does not contain a constant.\n",
      "[2] Standard Errors assume that the covariance matrix of the errors is correctly specified.\n"
     ]
    }
   ],
   "source": [
    "# c: estimate the causal effect of A on C through linear regression C ~ A + S, with the set S you found in b.\n",
    "results = smf.ols('C ~ A + E - 1', data=data).fit()\n",
    "print(results.summary())"
   ]
  },
  {
   "cell_type": "code",
   "execution_count": 12,
   "metadata": {},
   "outputs": [
    {
     "name": "stdout",
     "output_type": "stream",
     "text": [
      "                                 OLS Regression Results                                \n",
      "=======================================================================================\n",
      "Dep. Variable:                      C   R-squared (uncentered):                   0.920\n",
      "Model:                            OLS   Adj. R-squared (uncentered):              0.920\n",
      "Method:                 Least Squares   F-statistic:                          5.711e+05\n",
      "Date:                Tue, 14 Jan 2025   Prob (F-statistic):                        0.00\n",
      "Time:                        14:56:30   Log-Likelihood:                     -2.3162e+05\n",
      "No. Observations:              100000   AIC:                                  4.632e+05\n",
      "Df Residuals:                   99998   BIC:                                  4.633e+05\n",
      "Df Model:                           2                                                  \n",
      "Covariance Type:            nonrobust                                                  \n",
      "==============================================================================\n",
      "                 coef    std err          t      P>|t|      [0.025      0.975]\n",
      "------------------------------------------------------------------------------\n",
      "A              1.9997      0.008    257.921      0.000       1.985       2.015\n",
      "E              2.0065      0.025     81.863      0.000       1.958       2.054\n",
      "==============================================================================\n",
      "Omnibus:                        3.057   Durbin-Watson:                   2.000\n",
      "Prob(Omnibus):                  0.217   Jarque-Bera (JB):                3.092\n",
      "Skew:                          -0.003   Prob(JB):                        0.213\n",
      "Kurtosis:                       3.026   Cond. No.                         11.0\n",
      "==============================================================================\n",
      "\n",
      "Notes:\n",
      "[1] R² is computed without centering (uncentered) since the model does not contain a constant.\n",
      "[2] Standard Errors assume that the covariance matrix of the errors is correctly specified.\n"
     ]
    }
   ],
   "source": [
    "# e: if possible, estimate the causal effect of A on C using the frontdoor criterion with a suitable set M.\n",
    "# ...\n",
    "\n",
    "results1 = smf.ols('C ~ A + E - 1', data=data).fit()\n",
    "print(results1.summary())"
   ]
  }
 ],
 "metadata": {
  "kernelspec": {
   "display_name": "Python 3",
   "language": "python",
   "name": "python3"
  },
  "language_info": {
   "codemirror_mode": {
    "name": "ipython",
    "version": 3
   },
   "file_extension": ".py",
   "mimetype": "text/x-python",
   "name": "python",
   "nbconvert_exporter": "python",
   "pygments_lexer": "ipython3",
   "version": "3.12.8"
  }
 },
 "nbformat": 4,
 "nbformat_minor": 2
}
