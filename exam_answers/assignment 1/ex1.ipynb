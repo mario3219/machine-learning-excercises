{
 "cells": [
  {
   "cell_type": "markdown",
   "metadata": {},
   "source": [
    "Assignment a)\n",
    "\n",
    "1. S1 = {B,E}, as A -> B -> C is a chain and A and C are independent given B, and A <- E -> C is a fork, and A and C are independent given E.\n",
    "\n",
    "2. S2 = {B}, as E -> C <- D is a collider and E and D are independent without adjustments, but there is a backdoor path from E -> A -> B -> C, which is a chain, and an adjustment needs to be made. Adjusting to B is enough.\n",
    "\n",
    "3. S3 = {C}, B -> C <- D is a collider and are already dependent without adjustment, and backdoor path from B leads to the fork A <- E -> C, which makes A and C dependent already without adjustment, but E -> C <- D is a collider, and are independent without adjustment. Conditioning on C makes E and D dependent.\n",
    "\n",
    "4. S4 = {C}, all paths from E leads through C, E -> C -> F, B -> C -> F, which ultimately creates chains. Conditioning on C leads to E and F becoming independent.\n",
    "\n",
    "Following answers can be checked with code:"
   ]
  },
  {
   "cell_type": "code",
   "execution_count": 1,
   "metadata": {},
   "outputs": [],
   "source": [
    "import numpy as np\n",
    "import statsmodels.formula.api as smf\n",
    "import pandas as pd\n",
    "\n",
    "N = 100000\n",
    "\n",
    "nA = np.random.normal(0, 1, N)\n",
    "nB = np.random.normal(0, 1, N)\n",
    "nC = np.random.normal(0, 1, N)\n",
    "nD = np.random.normal(0, 1, N)\n",
    "nE = np.random.normal(0, 1, N)\n",
    "nF = np.random.normal(0, 1, N)\n",
    "\n",
    "E = nE\n",
    "D = nD\n",
    "A = 3*E+nA\n",
    "B = A+nB\n",
    "C = 2*B+2*E-D+nC\n",
    "F = C+nF\n",
    "\n",
    "dat1 = pd.DataFrame({'A':A, 'B':B, 'C':C, 'D':D, 'E':E, 'F':F})"
   ]
  },
  {
   "cell_type": "code",
   "execution_count": 2,
   "metadata": {},
   "outputs": [
    {
     "name": "stdout",
     "output_type": "stream",
     "text": [
      "                            OLS Regression Results                            \n",
      "==============================================================================\n",
      "Dep. Variable:                      A   R-squared:                       0.950\n",
      "Model:                            OLS   Adj. R-squared:                  0.950\n",
      "Method:                 Least Squares   F-statistic:                 6.351e+05\n",
      "Date:                Tue, 14 Jan 2025   Prob (F-statistic):               0.00\n",
      "Time:                        15:01:33   Log-Likelihood:            -1.0724e+05\n",
      "No. Observations:              100000   AIC:                         2.145e+05\n",
      "Df Residuals:                   99996   BIC:                         2.145e+05\n",
      "Df Model:                           3                                         \n",
      "Covariance Type:            nonrobust                                         \n",
      "==============================================================================\n",
      "                 coef    std err          t      P>|t|      [0.025      0.975]\n",
      "------------------------------------------------------------------------------\n",
      "Intercept     -0.0015      0.002     -0.675      0.500      -0.006       0.003\n",
      "C              0.0008      0.002      0.507      0.612      -0.002       0.004\n",
      "B              0.4976      0.004    140.231      0.000       0.491       0.505\n",
      "E              1.5010      0.006    245.474      0.000       1.489       1.513\n",
      "==============================================================================\n",
      "Omnibus:                        0.396   Durbin-Watson:                   1.989\n",
      "Prob(Omnibus):                  0.820   Jarque-Bera (JB):                0.400\n",
      "Skew:                          -0.005   Prob(JB):                        0.819\n",
      "Kurtosis:                       2.997   Cond. No.                         25.7\n",
      "==============================================================================\n",
      "\n",
      "Notes:\n",
      "[1] Standard Errors assume that the covariance matrix of the errors is correctly specified.\n"
     ]
    }
   ],
   "source": [
    "results1 = smf.ols('A ~ C + B + E +  - 1', data=dat1).fit()\n",
    "print(results1.summary())"
   ]
  },
  {
   "cell_type": "code",
   "execution_count": 3,
   "metadata": {},
   "outputs": [
    {
     "name": "stdout",
     "output_type": "stream",
     "text": [
      "                                 OLS Regression Results                                \n",
      "=======================================================================================\n",
      "Dep. Variable:                      D   R-squared (uncentered):                   0.000\n",
      "Model:                            OLS   Adj. R-squared (uncentered):             -0.000\n",
      "Method:                 Least Squares   F-statistic:                             0.4708\n",
      "Date:                Tue, 14 Jan 2025   Prob (F-statistic):                       0.625\n",
      "Time:                        15:01:33   Log-Likelihood:                     -1.4141e+05\n",
      "No. Observations:              100000   AIC:                                  2.828e+05\n",
      "Df Residuals:                   99998   BIC:                                  2.829e+05\n",
      "Df Model:                           2                                                  \n",
      "Covariance Type:            nonrobust                                                  \n",
      "==============================================================================\n",
      "                 coef    std err          t      P>|t|      [0.025      0.975]\n",
      "------------------------------------------------------------------------------\n",
      "E             -0.0041      0.007     -0.557      0.578      -0.019       0.010\n",
      "B              0.0004      0.002      0.164      0.869      -0.004       0.005\n",
      "==============================================================================\n",
      "Omnibus:                        2.345   Durbin-Watson:                   1.992\n",
      "Prob(Omnibus):                  0.310   Jarque-Bera (JB):                2.338\n",
      "Skew:                          -0.012   Prob(JB):                        0.311\n",
      "Kurtosis:                       3.005   Cond. No.                         8.35\n",
      "==============================================================================\n",
      "\n",
      "Notes:\n",
      "[1] R² is computed without centering (uncentered) since the model does not contain a constant.\n",
      "[2] Standard Errors assume that the covariance matrix of the errors is correctly specified.\n"
     ]
    }
   ],
   "source": [
    "results1 = smf.ols('D ~ E + B - 1', data=dat1).fit()\n",
    "print(results1.summary())"
   ]
  },
  {
   "cell_type": "code",
   "execution_count": 4,
   "metadata": {},
   "outputs": [
    {
     "name": "stdout",
     "output_type": "stream",
     "text": [
      "                                 OLS Regression Results                                \n",
      "=======================================================================================\n",
      "Dep. Variable:                      B   R-squared (uncentered):                   0.976\n",
      "Model:                            OLS   Adj. R-squared (uncentered):              0.976\n",
      "Method:                 Least Squares   F-statistic:                          2.077e+06\n",
      "Date:                Tue, 14 Jan 2025   Prob (F-statistic):                        0.00\n",
      "Time:                        15:01:33   Log-Likelihood:                         -74330.\n",
      "No. Observations:              100000   AIC:                                  1.487e+05\n",
      "Df Residuals:                   99998   BIC:                                  1.487e+05\n",
      "Df Model:                           2                                                  \n",
      "Covariance Type:            nonrobust                                                  \n",
      "==============================================================================\n",
      "                 coef    std err          t      P>|t|      [0.025      0.975]\n",
      "------------------------------------------------------------------------------\n",
      "D              0.3839      0.002    235.788      0.000       0.381       0.387\n",
      "C              0.3834      0.000   2037.993      0.000       0.383       0.384\n",
      "==============================================================================\n",
      "Omnibus:                        0.468   Durbin-Watson:                   1.991\n",
      "Prob(Omnibus):                  0.791   Jarque-Bera (JB):                0.471\n",
      "Skew:                           0.005   Prob(JB):                        0.790\n",
      "Kurtosis:                       2.998   Cond. No.                         8.72\n",
      "==============================================================================\n",
      "\n",
      "Notes:\n",
      "[1] R² is computed without centering (uncentered) since the model does not contain a constant.\n",
      "[2] Standard Errors assume that the covariance matrix of the errors is correctly specified.\n"
     ]
    }
   ],
   "source": [
    "results1 = smf.ols('B ~ D + C - 1', data=dat1).fit()\n",
    "print(results1.summary())"
   ]
  },
  {
   "cell_type": "code",
   "execution_count": 5,
   "metadata": {},
   "outputs": [
    {
     "name": "stdout",
     "output_type": "stream",
     "text": [
      "                                 OLS Regression Results                                \n",
      "=======================================================================================\n",
      "Dep. Variable:                      E   R-squared (uncentered):                   0.865\n",
      "Model:                            OLS   Adj. R-squared (uncentered):              0.865\n",
      "Method:                 Least Squares   F-statistic:                          3.202e+05\n",
      "Date:                Tue, 14 Jan 2025   Prob (F-statistic):                        0.00\n",
      "Time:                        15:01:33   Log-Likelihood:                         -42024.\n",
      "No. Observations:              100000   AIC:                                  8.405e+04\n",
      "Df Residuals:                   99998   BIC:                                  8.407e+04\n",
      "Df Model:                           2                                                  \n",
      "Covariance Type:            nonrobust                                                  \n",
      "==============================================================================\n",
      "                 coef    std err          t      P>|t|      [0.025      0.975]\n",
      "------------------------------------------------------------------------------\n",
      "F             -0.0013      0.001     -1.147      0.251      -0.004       0.001\n",
      "C              0.1096      0.001     93.214      0.000       0.107       0.112\n",
      "==============================================================================\n",
      "Omnibus:                        1.732   Durbin-Watson:                   2.003\n",
      "Prob(Omnibus):                  0.421   Jarque-Bera (JB):                1.741\n",
      "Skew:                           0.010   Prob(JB):                        0.419\n",
      "Kurtosis:                       2.993   Cond. No.                         17.3\n",
      "==============================================================================\n",
      "\n",
      "Notes:\n",
      "[1] R² is computed without centering (uncentered) since the model does not contain a constant.\n",
      "[2] Standard Errors assume that the covariance matrix of the errors is correctly specified.\n"
     ]
    }
   ],
   "source": [
    "results1 = smf.ols('E ~ F + C - 1', data=dat1).fit()\n",
    "print(results1.summary())"
   ]
  },
  {
   "cell_type": "markdown",
   "metadata": {},
   "source": [
    "Assignment b)\n",
    "\n",
    "1. The path A -> B -> C gives coefficient of influence 2\n",
    "\n",
    "2. S = {E} fullfills backdoor criterion. E fulfills i) as E is not a descendant of A, and fulfills ii) as conditioning on E blocks the backdoor path from A.\n",
    "\n",
    "3. Answered in causalinference.ipynb. The result was ~ 1.99\n",
    "\n",
    "4. An example would be a path from A <- C directly, as this would make A a parent of C, which breaks the backdoor-criterion adjustment that Y is not a parent of X, and the frontdoor-criterion where no adjustment can be made to block all backdoor paths from Y to M, as A has to be included in the adjustment.\n",
    "\n",
    "5. There is no such set, as conditioning on E breaks i), as there is a direct path from A to C through B, conditioning on B breaks ii) as there is an unblocked backdoor path from A to C through E, and conditioning on {B,E} breaks iii) as A is not blocked and there is a backdoor path from B to C."
   ]
  }
 ],
 "metadata": {
  "kernelspec": {
   "display_name": "Python 3",
   "language": "python",
   "name": "python3"
  },
  "language_info": {
   "codemirror_mode": {
    "name": "ipython",
    "version": 3
   },
   "file_extension": ".py",
   "mimetype": "text/x-python",
   "name": "python",
   "nbconvert_exporter": "python",
   "pygments_lexer": "ipython3",
   "version": "3.12.8"
  }
 },
 "nbformat": 4,
 "nbformat_minor": 2
}
